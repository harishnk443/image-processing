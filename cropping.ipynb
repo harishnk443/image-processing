{
 "cells": [
  {
   "cell_type": "code",
   "execution_count": 1,
   "id": "243fa22a",
   "metadata": {},
   "outputs": [],
   "source": [
    "from PIL import Image"
   ]
  },
  {
   "cell_type": "code",
   "execution_count": 2,
   "id": "3b845556",
   "metadata": {},
   "outputs": [],
   "source": [
    "im = Image.open(r\"D:\\hari images\\merry.jpg\")"
   ]
  },
  {
   "cell_type": "code",
   "execution_count": 3,
   "id": "1f5cd522",
   "metadata": {},
   "outputs": [],
   "source": [
    "left = 155"
   ]
  },
  {
   "cell_type": "code",
   "execution_count": 4,
   "id": "7f301204",
   "metadata": {},
   "outputs": [],
   "source": [
    "top = 65"
   ]
  },
  {
   "cell_type": "code",
   "execution_count": 5,
   "id": "e7f2d902",
   "metadata": {},
   "outputs": [],
   "source": [
    "right = 360"
   ]
  },
  {
   "cell_type": "code",
   "execution_count": 6,
   "id": "ce790f5b",
   "metadata": {},
   "outputs": [],
   "source": [
    "bottom = 270"
   ]
  },
  {
   "cell_type": "code",
   "execution_count": 7,
   "id": "648ca6a9",
   "metadata": {},
   "outputs": [],
   "source": [
    "im1 = im.crop((left, top, right, bottom))"
   ]
  },
  {
   "cell_type": "code",
   "execution_count": 10,
   "id": "1e4ba0d7",
   "metadata": {},
   "outputs": [],
   "source": [
    "im1.show()"
   ]
  },
  {
   "cell_type": "code",
   "execution_count": null,
   "id": "806b20be",
   "metadata": {},
   "outputs": [],
   "source": []
  }
 ],
 "metadata": {
  "kernelspec": {
   "display_name": "Python 3 (ipykernel)",
   "language": "python",
   "name": "python3"
  },
  "language_info": {
   "codemirror_mode": {
    "name": "ipython",
    "version": 3
   },
   "file_extension": ".py",
   "mimetype": "text/x-python",
   "name": "python",
   "nbconvert_exporter": "python",
   "pygments_lexer": "ipython3",
   "version": "3.9.7"
  }
 },
 "nbformat": 4,
 "nbformat_minor": 5
}
