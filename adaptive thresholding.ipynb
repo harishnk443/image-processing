{
 "cells": [
  {
   "cell_type": "code",
   "execution_count": 1,
   "id": "078352c0",
   "metadata": {},
   "outputs": [],
   "source": [
    "import cv2\n",
    "import numpy as np"
   ]
  },
  {
   "cell_type": "code",
   "execution_count": 2,
   "id": "31851090",
   "metadata": {},
   "outputs": [],
   "source": [
    "img = cv2.imread('car.webp', cv2.IMREAD_GRAYSCALE)\n",
    "cv2.imshow('gray', img)"
   ]
  },
  {
   "cell_type": "code",
   "execution_count": 3,
   "id": "55312711",
   "metadata": {},
   "outputs": [],
   "source": [
    "blur = cv2.GaussianBlur(img,(5,5),0)\n",
    "cv2.imshow('blur', blur)"
   ]
  },
  {
   "cell_type": "code",
   "execution_count": 4,
   "id": "e7241ae6",
   "metadata": {},
   "outputs": [
    {
     "data": {
      "text/plain": [
       "True"
      ]
     },
     "execution_count": 4,
     "metadata": {},
     "output_type": "execute_result"
    }
   ],
   "source": [
    "ret,th1 = cv2.threshold(blur,150,255,cv2.THRESH_BINARY)\n",
    "cv2.imshow('car', th1)\n",
    "cv2.imwrite('car.webp',th1)"
   ]
  },
  {
   "cell_type": "code",
   "execution_count": 5,
   "id": "a3900791",
   "metadata": {},
   "outputs": [
    {
     "data": {
      "text/plain": [
       "True"
      ]
     },
     "execution_count": 5,
     "metadata": {},
     "output_type": "execute_result"
    }
   ],
   "source": [
    "th2 = cv2.adaptiveThreshold(blur,255,cv2.ADAPTIVE_THRESH_MEAN_C,cv2.THRESH_BINARY,11,2)\n",
    "cv2.imshow('Adaptive Mean', th2)\n",
    "cv2.imwrite('merry.jpg',th2)"
   ]
  },
  {
   "cell_type": "code",
   "execution_count": 7,
   "id": "7cc2eea6",
   "metadata": {},
   "outputs": [],
   "source": [
    "th3 = cv2.adaptiveThreshold(blur,255,cv2.ADAPTIVE_THRESH_GAUSSIAN_C,cv2.THRESH_BINARY,11,2)\n",
    "cv2.imshow('merry2', th3)\n",
    "cv2.imwrite('merry2.jpg',th3)\n",
    "cv2.waitKey(0)\n",
    "cv2.destroyAllWindows()"
   ]
  },
  {
   "cell_type": "code",
   "execution_count": null,
   "id": "b00be27f",
   "metadata": {},
   "outputs": [],
   "source": []
  }
 ],
 "metadata": {
  "kernelspec": {
   "display_name": "Python 3 (ipykernel)",
   "language": "python",
   "name": "python3"
  },
  "language_info": {
   "codemirror_mode": {
    "name": "ipython",
    "version": 3
   },
   "file_extension": ".py",
   "mimetype": "text/x-python",
   "name": "python",
   "nbconvert_exporter": "python",
   "pygments_lexer": "ipython3",
   "version": "3.9.7"
  }
 },
 "nbformat": 4,
 "nbformat_minor": 5
}
