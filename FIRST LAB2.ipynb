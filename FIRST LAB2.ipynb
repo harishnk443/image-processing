{
 "cells": [
  {
   "cell_type": "code",
   "execution_count": 6,
   "id": "c9313ab9",
   "metadata": {},
   "outputs": [],
   "source": [
    "import cv2\n",
    "im=cv2.imread(\"car.webp\")\n",
    "grey=cv2.cvtColor(im,cv2.COLOR_BGR2GRAY)\n",
    "cv2.imshow('im',grey)\n",
    "cv2.waitKey(0)\n",
    "cv2.destroyAllWindows()"
   ]
  },
  {
   "cell_type": "code",
   "execution_count": 11,
   "id": "690abbca",
   "metadata": {},
   "outputs": [],
   "source": [
    "hsv=cv2.cvtColor(im,cv2.COLOR_BGR2HSV)\n",
    "cv2.imshow('im',hsv)\n",
    "cv2.waitKey(0)\n",
    "cv2.destroyAllWindows()"
   ]
  },
  {
   "cell_type": "code",
   "execution_count": 12,
   "id": "d35e84d0",
   "metadata": {},
   "outputs": [],
   "source": [
    "lab=cv2.cvtColor(im,cv2.COLOR_BGR2LAB)\n",
    "cv2.imshow('im',lab)\n",
    "cv2.waitKey(0)\n",
    "cv2.destroyAllWindows()"
   ]
  },
  {
   "cell_type": "code",
   "execution_count": 13,
   "id": "7a408263",
   "metadata": {},
   "outputs": [],
   "source": [
    "hls=cv2.cvtColor(im,cv2.COLOR_BGR2HLS)\n",
    "cv2.imshow('im',hls)\n",
    "cv2.waitKey(0)\n",
    "cv2.destroyAllWindows()"
   ]
  },
  {
   "cell_type": "code",
   "execution_count": 10,
   "id": "39a7104d",
   "metadata": {},
   "outputs": [],
   "source": [
    "yuv=cv2.cvtColor(im,cv2.COLOR_BGR2YUV)\n",
    "cv2.imshow('im',yuv)\n",
    "cv2.waitKey(0)\n",
    "cv2.destroyAllWindows()"
   ]
  }
 ],
 "metadata": {
  "kernelspec": {
   "display_name": "Python 3 (ipykernel)",
   "language": "python",
   "name": "python3"
  },
  "language_info": {
   "codemirror_mode": {
    "name": "ipython",
    "version": 3
   },
   "file_extension": ".py",
   "mimetype": "text/x-python",
   "name": "python",
   "nbconvert_exporter": "python",
   "pygments_lexer": "ipython3",
   "version": "3.9.7"
  }
 },
 "nbformat": 4,
 "nbformat_minor": 5
}
