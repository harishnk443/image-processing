{
 "cells": [
  {
   "cell_type": "code",
   "execution_count": 1,
   "id": "1eb3046c",
   "metadata": {},
   "outputs": [],
   "source": [
    "import  cv2"
   ]
  },
  {
   "cell_type": "code",
   "execution_count": 2,
   "id": "445044fc",
   "metadata": {},
   "outputs": [],
   "source": [
    "import matplotlib.pyplot as plt \n",
    "%matplotlib inline"
   ]
  },
  {
   "cell_type": "code",
   "execution_count": 3,
   "id": "cd1b2723",
   "metadata": {},
   "outputs": [],
   "source": [
    "first_img = cv2.imread(\"D://hari images//car.webp\")"
   ]
  },
  {
   "cell_type": "code",
   "execution_count": 4,
   "id": "c167ee1c",
   "metadata": {},
   "outputs": [],
   "source": [
    "second_img = cv2.imread(\"D://hari images//merry.jpg\")"
   ]
  },
  {
   "cell_type": "code",
   "execution_count": 5,
   "id": "68fe38a2",
   "metadata": {},
   "outputs": [
    {
     "name": "stdout",
     "output_type": "stream",
     "text": [
      "(340, 680, 3)\n"
     ]
    }
   ],
   "source": [
    "print(first_img.shape)"
   ]
  },
  {
   "cell_type": "code",
   "execution_count": 6,
   "id": "db84f2cc",
   "metadata": {},
   "outputs": [
    {
     "name": "stdout",
     "output_type": "stream",
     "text": [
      "(1200, 1920, 3)\n"
     ]
    }
   ],
   "source": [
    "print(second_img.shape)"
   ]
  },
  {
   "cell_type": "code",
   "execution_count": 7,
   "id": "fd7c2a29",
   "metadata": {},
   "outputs": [
    {
     "name": "stdout",
     "output_type": "stream",
     "text": [
      "shape after resizing (340, 680, 3)\n"
     ]
    }
   ],
   "source": [
    "dim =(680, 340)\n",
    "resized_second_img = cv2.resize(second_img, dim, interpolation = cv2.INTER_AREA)\n",
    "print(\"shape after resizing\", resized_second_img.shape)"
   ]
  },
  {
   "cell_type": "code",
   "execution_count": 8,
   "id": "6b6c91d8",
   "metadata": {},
   "outputs": [],
   "source": [
    "subtracted = cv2.subtract(first_img, resized_second_img)"
   ]
  },
  {
   "cell_type": "code",
   "execution_count": 9,
   "id": "3f860a66",
   "metadata": {},
   "outputs": [
    {
     "data": {
      "text/plain": [
       "-1"
      ]
     },
     "execution_count": 9,
     "metadata": {},
     "output_type": "execute_result"
    }
   ],
   "source": [
    "cv2.imshow(\"first_img\", first_img)\n",
    "cv2.waitKey(0)\n",
    "cv2.imshow(\"second_img\", resized_second_img)\n",
    "cv2.waitKey(0)\n",
    "cv2.imshow(\"subtracted image\", subtracted)\n",
    "cv2.waitKey(0)"
   ]
  },
  {
   "cell_type": "code",
   "execution_count": 10,
   "id": "30f97477",
   "metadata": {},
   "outputs": [
    {
     "data": {
      "text/plain": [
       "<function destroyAllWindows>"
      ]
     },
     "execution_count": 10,
     "metadata": {},
     "output_type": "execute_result"
    }
   ],
   "source": [
    "cv2.destroyAllWindows"
   ]
  },
  {
   "cell_type": "code",
   "execution_count": 11,
   "id": "df085bda",
   "metadata": {},
   "outputs": [],
   "source": [
    "import  cv2"
   ]
  },
  {
   "cell_type": "code",
   "execution_count": 12,
   "id": "7b8acf5d",
   "metadata": {},
   "outputs": [],
   "source": [
    "import matplotlib.pyplot as plt \n",
    "%matplotlib inline"
   ]
  },
  {
   "cell_type": "code",
   "execution_count": 13,
   "id": "5a8a3749",
   "metadata": {},
   "outputs": [],
   "source": [
    "first_img = cv2.imread(\"D://hari images//car.webp\")"
   ]
  },
  {
   "cell_type": "code",
   "execution_count": 14,
   "id": "9cd0f638",
   "metadata": {},
   "outputs": [],
   "source": [
    "second_img = cv2.imread(\"D://hari images//merry.jpg\")"
   ]
  },
  {
   "cell_type": "code",
   "execution_count": 15,
   "id": "703cb4ab",
   "metadata": {},
   "outputs": [
    {
     "name": "stdout",
     "output_type": "stream",
     "text": [
      "(340, 680, 3)\n"
     ]
    }
   ],
   "source": [
    "print(first_img.shape)"
   ]
  },
  {
   "cell_type": "code",
   "execution_count": 16,
   "id": "cbdff9f9",
   "metadata": {},
   "outputs": [
    {
     "name": "stdout",
     "output_type": "stream",
     "text": [
      "(1200, 1920, 3)\n"
     ]
    }
   ],
   "source": [
    "print(second_img.shape)"
   ]
  },
  {
   "cell_type": "code",
   "execution_count": 17,
   "id": "64d11160",
   "metadata": {},
   "outputs": [
    {
     "name": "stdout",
     "output_type": "stream",
     "text": [
      "shape after resizing (340, 680, 3)\n"
     ]
    }
   ],
   "source": [
    "dim =(680, 340)\n",
    "resized_second_img = cv2.resize(second_img, dim, interpolation = cv2.INTER_AREA)\n",
    "print(\"shape after resizing\", resized_second_img.shape)"
   ]
  },
  {
   "cell_type": "code",
   "execution_count": 18,
   "id": "54c76924",
   "metadata": {},
   "outputs": [
    {
     "ename": "AttributeError",
     "evalue": "module 'cv2' has no attribute 'multiple'",
     "output_type": "error",
     "traceback": [
      "\u001b[1;31m---------------------------------------------------------------------------\u001b[0m",
      "\u001b[1;31mAttributeError\u001b[0m                            Traceback (most recent call last)",
      "\u001b[1;32m~\\AppData\\Local\\Temp/ipykernel_6512/2344294833.py\u001b[0m in \u001b[0;36m<module>\u001b[1;34m\u001b[0m\n\u001b[1;32m----> 1\u001b[1;33m \u001b[0mmultiplication\u001b[0m \u001b[1;33m=\u001b[0m \u001b[0mcv2\u001b[0m\u001b[1;33m.\u001b[0m\u001b[0mmultiple\u001b[0m\u001b[1;33m(\u001b[0m\u001b[0mfirst_img\u001b[0m\u001b[1;33m,\u001b[0m \u001b[0mresized_second_img\u001b[0m\u001b[1;33m)\u001b[0m\u001b[1;33m\u001b[0m\u001b[1;33m\u001b[0m\u001b[0m\n\u001b[0m",
      "\u001b[1;31mAttributeError\u001b[0m: module 'cv2' has no attribute 'multiple'"
     ]
    }
   ],
   "source": [
    "multiplication = cv2.multiple(first_img, resized_second_img)"
   ]
  },
  {
   "cell_type": "code",
   "execution_count": null,
   "id": "bcdbd49e",
   "metadata": {},
   "outputs": [],
   "source": []
  }
 ],
 "metadata": {
  "kernelspec": {
   "display_name": "Python 3 (ipykernel)",
   "language": "python",
   "name": "python3"
  },
  "language_info": {
   "codemirror_mode": {
    "name": "ipython",
    "version": 3
   },
   "file_extension": ".py",
   "mimetype": "text/x-python",
   "name": "python",
   "nbconvert_exporter": "python",
   "pygments_lexer": "ipython3",
   "version": "3.9.7"
  }
 },
 "nbformat": 4,
 "nbformat_minor": 5
}
