{
 "cells": [
  {
   "cell_type": "code",
   "execution_count": 1,
   "id": "ac58177b",
   "metadata": {},
   "outputs": [
    {
     "data": {
      "text/plain": [
       "-1"
      ]
     },
     "execution_count": 1,
     "metadata": {},
     "output_type": "execute_result"
    }
   ],
   "source": [
    "import numpy as np\n",
    "import cv2\n",
    "\n",
    "img = cv2.imread('taj.png')\n",
    "grayscale = cv2.cvtColor(img, cv2.COLOR_BGR2GRAY)\n",
    "\n",
    "# edge_kernel = np.array([[-1,-1,-1], [-1,9,-1], [-1,-1,-1]])\n",
    "sharpen_kernel = np.array([[0,-1,0], [-1,5,-1], [0,-1,0]])\n",
    "img = cv2.filter2D(grayscale, -1, sharpen_kernel)\n",
    "\n",
    "# Smooth out image\n",
    "# blur = cv2.medianBlur(img, 3)\n",
    "blur = cv2.GaussianBlur(img, (3,3), 0)\n",
    "\n",
    "cv2.imshow('img',img)\n",
    "cv2.imwrite('img.png',img)\n",
    "cv2.imshow('blur',blur)\n",
    "cv2.waitKey(0)"
   ]
  },
  {
   "cell_type": "code",
   "execution_count": null,
   "id": "66c65890",
   "metadata": {},
   "outputs": [],
   "source": [
    "import numpy as np\n",
    "import cv2\n",
    "  \n",
    "# Open the image.\n",
    "img = cv2.imread('cat.png')\n",
    "  \n",
    "# Load the mask.\n",
    "mask = cv2.imread('black.png', 0)\n",
    "  \n",
    "# Inpaint.\n",
    "dst = cv2.inpaint(img, mask, 3, cv2.INPAINT_NS)\n",
    "  \n",
    "# Write the output.\n",
    "cv2.imwrite('cat_inpainted.png', dst)\n",
    "\n",
    "cv2.imshow('cat_inpainted.png', dst)\n",
    "cv2.waitKey(0)\n",
    "cv2.destroyAllWindows()"
   ]
  },
  {
   "cell_type": "code",
   "execution_count": null,
   "id": "395b27fc",
   "metadata": {},
   "outputs": [],
   "source": [
    "import cv2\n",
    "import numpy as np\n",
    "from skimage import io      # Only needed for web grabbing images; use cv2.imread(...) for local images\n",
    "\n",
    "# Read images\n",
    "frame = cv2.cvtColor(io.imread('crop.png'), cv2.COLOR_RGB2BGR)\n",
    "image = cv2.cvtColor(io.imread('nature.jpg'), cv2.COLOR_RGB2BGR)\n",
    "\n",
    "# Color threshold red frame; single color here, more sophisticated solution would be using cv2.inRange\n",
    "mask = 255 * np.uint8(np.all(frame == [36, 28, 237], axis=2))\n",
    "\n",
    "# Find inner contour of frame; get coordinates\n",
    "contours, _ = cv2.findContours(mask, cv2.RETR_LIST, cv2.CHAIN_APPROX_SIMPLE)\n",
    "cnt = min(contours, key=cv2.contourArea)\n",
    "(x, y, w, h) = cv2.boundingRect(cnt)\n",
    "\n",
    "# Copy appropriately resized image to frame\n",
    "frame[y:y+h, x:x+w] = cv2.resize(image, (w, h))\n",
    "\n",
    "cv2.imshow('frame', frame)\n",
    "cv2.waitKey(0)\n",
    "cv2.destroyAllWindows()\n"
   ]
  },
  {
   "cell_type": "code",
   "execution_count": null,
   "id": "7a4e8704",
   "metadata": {},
   "outputs": [],
   "source": []
  }
 ],
 "metadata": {
  "kernelspec": {
   "display_name": "Python 3 (ipykernel)",
   "language": "python",
   "name": "python3"
  },
  "language_info": {
   "codemirror_mode": {
    "name": "ipython",
    "version": 3
   },
   "file_extension": ".py",
   "mimetype": "text/x-python",
   "name": "python",
   "nbconvert_exporter": "python",
   "pygments_lexer": "ipython3",
   "version": "3.9.7"
  }
 },
 "nbformat": 4,
 "nbformat_minor": 5
}
