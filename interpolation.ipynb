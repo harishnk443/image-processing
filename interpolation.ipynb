{
 "cells": [
  {
   "cell_type": "code",
   "execution_count": 1,
   "id": "aa4f8aaf",
   "metadata": {},
   "outputs": [],
   "source": [
    "import cv2\n",
    "import numpy as np\n"
   ]
  },
  {
   "cell_type": "code",
   "execution_count": 2,
   "id": "c9a171a8",
   "metadata": {},
   "outputs": [],
   "source": [
    "img = cv2.imread('panda.jpg', 0)\n",
    "(h,w) = img.shape[:2]\n",
    "center = (w/2, h/2)\n",
    "angle45 = 45\n",
    "scale = 1.0\n",
    "\n",
    "M = cv2.getRotationMatrix2D(center, angle45, scale)\n",
    "\n",
    "\n",
    "abs_cos = abs(M[0,0]) \n",
    "abs_sin = abs(M[0,1])\n",
    "\n",
    "\n",
    "bound_w = int(h * abs_sin + w * abs_cos)\n",
    "bound_h = int(h * abs_cos + w * abs_sin)\n",
    "\n",
    "M[0, 2] += bound_w/2 - center[0]\n",
    "M[1, 2] += bound_h/2 - center[1]\n",
    "\n",
    "rotated30 = cv2.warpAffine(img, M, (bound_w,bound_h))\n",
    "\n",
    "# cv2.imshow('Original Image', img)\n",
    "# cv2.imshow('Rotated by 30', rotated30)\n",
    "# cv2.waitKey(0)\n",
    "# cv2.destroyAllWindows()\n",
    "\n",
    "scale_percent = 110\n",
    "width = int(rotated30.shape[1] * scale_percent / 100)\n",
    "height = int(rotated30.shape[0] * scale_percent / 100)\n",
    "dim = (width, height)\n",
    "\n",
    "scaled = cv2.resize(rotated30, dim, interpolation=cv2.INTER_NEAREST)\n",
    "scaled1 = cv2.resize(rotated30, dim, interpolation=cv2.INTER_LINEAR)\n",
    "scaled2 = cv2.resize(rotated30, dim, interpolation=cv2.INTER_CUBIC)\n"
   ]
  },
  {
   "cell_type": "code",
   "execution_count": 3,
   "id": "4a97060d",
   "metadata": {},
   "outputs": [],
   "source": [
    "cv2.imshow(\"Nearest Neighbour\", scaled)\n",
    "cv2.imshow(\"Bilinear\", scaled1)\n",
    "cv2.imshow(\"Bicubic\", scaled2)\n",
    "\n",
    "cv2.imwrite(\"Nearest Neighbour.jpg\", scaled)\n",
    "cv2.imwrite(\"Bilinear.jpg\", scaled1)\n",
    "cv2.imwrite(\"Bicubic.jpg\", scaled2)\n",
    "cv2.waitKey(0)\n",
    "cv2.destroyAllWindows() "
   ]
  }
 ],
 "metadata": {
  "kernelspec": {
   "display_name": "Python 3 (ipykernel)",
   "language": "python",
   "name": "python3"
  },
  "language_info": {
   "codemirror_mode": {
    "name": "ipython",
    "version": 3
   },
   "file_extension": ".py",
   "mimetype": "text/x-python",
   "name": "python",
   "nbconvert_exporter": "python",
   "pygments_lexer": "ipython3",
   "version": "3.9.7"
  }
 },
 "nbformat": 4,
 "nbformat_minor": 5
}
