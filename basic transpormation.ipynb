{
 "cells": [
  {
   "cell_type": "code",
   "execution_count": 1,
   "id": "277e8f67",
   "metadata": {},
   "outputs": [],
   "source": [
    "import cv2\n",
    "import numpy as np"
   ]
  },
  {
   "cell_type": "code",
   "execution_count": 2,
   "id": "29899620",
   "metadata": {},
   "outputs": [],
   "source": [
    "image = cv2.imread('calvinHobbes.jpeg')"
   ]
  },
  {
   "cell_type": "code",
   "execution_count": 3,
   "id": "67560857",
   "metadata": {},
   "outputs": [],
   "source": [
    "height, width = image.shape[:2] \n",
    "quarter_height, quarter_width = height/4, width/4"
   ]
  },
  {
   "cell_type": "code",
   "execution_count": 4,
   "id": "dbb21e2d",
   "metadata": {},
   "outputs": [],
   "source": [
    "T = np.float32([[1, 0, quarter_width], [0, 1, quarter_height]]) \n",
    "img_translation = cv2.warpAffine(image, T, (width, height)) "
   ]
  },
  {
   "cell_type": "code",
   "execution_count": null,
   "id": "b3860c2d",
   "metadata": {},
   "outputs": [],
   "source": [
    "cv2.imshow(\"Originalimage\", image) \n",
    "cv2.imshow('Translation', img_translation)\n",
    "cv2.imwrite('Translation.jpg', img_translation) \n",
    "cv2.waitKey() \n"
   ]
  },
  {
   "cell_type": "code",
   "execution_count": null,
   "id": "5b1ab7ac",
   "metadata": {},
   "outputs": [],
   "source": [
    "cv2.destroyAllWindows()"
   ]
  },
  {
   "cell_type": "code",
   "execution_count": null,
   "id": "8cf22b4d",
   "metadata": {},
   "outputs": [],
   "source": [
    "import cv2\n",
    "import numpy as np\n",
    "from matplotlib import pyplot as plt\n",
    "\n",
    "img = cv2.imread('panda1.jpg')\n",
    "\n",
    "blur = cv2.blur(img,(5,5))\n",
    "\n",
    "plt.imshow(img),plt.title('Original')\n",
    "plt.show()\n",
    "cv2.imwrite('orig.png', img)\n",
    "plt.xticks([]), plt.yticks([])\n",
    "plt.imshow(blur),plt.title('Blurred')\n",
    "plt.xticks([]), plt.yticks([])\n",
    "plt.show()\n",
    "cv2.imwrite('boxfil.png', blur)"
   ]
  },
  {
   "cell_type": "code",
   "execution_count": null,
   "id": "d976d509",
   "metadata": {},
   "outputs": [],
   "source": [
    "import cv2\n",
    "import numpy as np"
   ]
  },
  {
   "cell_type": "code",
   "execution_count": null,
   "id": "1a70bdd9",
   "metadata": {},
   "outputs": [],
   "source": [
    "img = cv2.imread('panda.jpg', 0)\n",
    "(h,w) = img.shape[:2]\n",
    "center = (w/2, h/2)\n",
    "angle45 = 45\n",
    "scale = 1.0"
   ]
  },
  {
   "cell_type": "code",
   "execution_count": null,
   "id": "32243a15",
   "metadata": {},
   "outputs": [],
   "source": [
    "M = cv2.getRotationMatrix2D(center, angle45, scale)"
   ]
  },
  {
   "cell_type": "code",
   "execution_count": null,
   "id": "d7d953c6",
   "metadata": {},
   "outputs": [],
   "source": [
    "abs_cos = abs(M[0,0]) \n",
    "abs_sin = abs(M[0,1])"
   ]
  },
  {
   "cell_type": "code",
   "execution_count": null,
   "id": "10dfcb8d",
   "metadata": {},
   "outputs": [],
   "source": [
    "bound_w = int(h * abs_sin + w * abs_cos)\n",
    "bound_h = int(h * abs_cos + w * abs_sin)"
   ]
  },
  {
   "cell_type": "code",
   "execution_count": null,
   "id": "aa220e10",
   "metadata": {},
   "outputs": [],
   "source": [
    "M[0, 2] += bound_w/2 - center[0]\n",
    "M[1, 2] += bound_h/2 - center[1]"
   ]
  },
  {
   "cell_type": "code",
   "execution_count": null,
   "id": "02cd8342",
   "metadata": {},
   "outputs": [],
   "source": [
    "rotated30 = cv2.warpAffine(img, M, (bound_w,bound_h))"
   ]
  },
  {
   "cell_type": "code",
   "execution_count": null,
   "id": "fd9af58e",
   "metadata": {},
   "outputs": [],
   "source": [
    "scale_percent = 110\n",
    "width = int(rotated30.shape[1] * scale_percent / 100)\n",
    "height = int(rotated30.shape[0] * scale_percent / 100)\n",
    "dim = (width, height)"
   ]
  },
  {
   "cell_type": "code",
   "execution_count": null,
   "id": "01fb89ee",
   "metadata": {},
   "outputs": [],
   "source": [
    "scaled = cv2.resize(rotated30, dim, interpolation=cv2.INTER_NEAREST)\n",
    "scaled1 = cv2.resize(rotated30, dim, interpolation=cv2.INTER_LINEAR)\n",
    "scaled2 = cv2.resize(rotated30, dim, interpolation=cv2.INTER_CUBIC)"
   ]
  },
  {
   "cell_type": "code",
   "execution_count": null,
   "id": "7808fa9f",
   "metadata": {},
   "outputs": [],
   "source": [
    "cv2.imshow(\"Nearest Neighbour\", scaled)\n",
    "cv2.imshow(\"Bilinear\", scaled1)\n",
    "cv2.imshow(\"Bicubic\", scaled2)"
   ]
  },
  {
   "cell_type": "code",
   "execution_count": null,
   "id": "bdba0e1c",
   "metadata": {},
   "outputs": [],
   "source": [
    "cv2.imwrite(\"Nearest Neighbour.jpg\", scaled)\n",
    "cv2.imwrite(\"Bilinear.jpg\", scaled1)\n",
    "cv2.imwrite(\"Bicubic.jpg\", scaled2)\n",
    "cv2.waitKey(0)\n",
    "cv2.destroyAllWindows() "
   ]
  }
 ],
 "metadata": {
  "kernelspec": {
   "display_name": "Python 3 (ipykernel)",
   "language": "python",
   "name": "python3"
  },
  "language_info": {
   "codemirror_mode": {
    "name": "ipython",
    "version": 3
   },
   "file_extension": ".py",
   "mimetype": "text/x-python",
   "name": "python",
   "nbconvert_exporter": "python",
   "pygments_lexer": "ipython3",
   "version": "3.9.7"
  }
 },
 "nbformat": 4,
 "nbformat_minor": 5
}
