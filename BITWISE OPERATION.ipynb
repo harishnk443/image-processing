{
 "cells": [
  {
   "cell_type": "code",
   "execution_count": 1,
   "id": "d08a9172",
   "metadata": {},
   "outputs": [],
   "source": [
    "import cv2\n",
    "import numpy as np"
   ]
  },
  {
   "cell_type": "code",
   "execution_count": 2,
   "id": "215901b4",
   "metadata": {},
   "outputs": [],
   "source": [
    "img1 = np.zeros((300, 300), dtype=\"uint8\")\n",
    "cv2.rectangle(img1, (100, 100), (250, 250), 255, -1)\n",
    "cv2.imshow(\"pic.jpg\", img1)"
   ]
  },
  {
   "cell_type": "code",
   "execution_count": 3,
   "id": "34881672",
   "metadata": {},
   "outputs": [],
   "source": [
    "img2 = np.zeros((300, 300), dtype=\"uint8\")\n",
    "cv2.circle(img2, (150, 150), 90, 255, -1)\n",
    "cv2.imshow(\"car.webp\", img2)\n",
    " "
   ]
  },
  {
   "cell_type": "code",
   "execution_count": 4,
   "id": "a5173d74",
   "metadata": {},
   "outputs": [],
   "source": [
    "rect_and_circle = cv2.bitwise_and(img1,img2)\n",
    "cv2.imshow(\"AND operation\",rect_and_circle)\n",
    " "
   ]
  },
  {
   "cell_type": "code",
   "execution_count": 5,
   "id": "52032d93",
   "metadata": {},
   "outputs": [],
   "source": [
    "rect_or_circle = cv2.bitwise_or(img1,img2)\n",
    "cv2.imshow(\"OR operation\",rect_or_circle)"
   ]
  },
  {
   "cell_type": "code",
   "execution_count": 6,
   "id": "ec7bd221",
   "metadata": {},
   "outputs": [],
   "source": [
    "rect_xor_circle = cv2.bitwise_xor(img1,img2)\n",
    "cv2.imshow(\"XOR Operation\",rect_xor_circle)"
   ]
  },
  {
   "cell_type": "code",
   "execution_count": 7,
   "id": "e5fcb4ef",
   "metadata": {},
   "outputs": [],
   "source": [
    "rect_xor_circle2 = cv2.bitwise_xor(img1,img2)\n",
    "cv2.imshow(\"XOR Operation\",rect_xor_circle2)"
   ]
  },
  {
   "cell_type": "code",
   "execution_count": 8,
   "id": "e3dab575",
   "metadata": {},
   "outputs": [],
   "source": [
    "rect_xor_circle2 = cv2.bitwise_xor(img1,img2)\n",
    "cv2.imshow(\"NOT Operation\",rect_xor_circle)"
   ]
  },
  {
   "cell_type": "code",
   "execution_count": 9,
   "id": "0c0e227c",
   "metadata": {},
   "outputs": [],
   "source": [
    "cv2.waitKey(0)\n",
    "cv2.destroyAllWindows()"
   ]
  }
 ],
 "metadata": {
  "kernelspec": {
   "display_name": "Python 3 (ipykernel)",
   "language": "python",
   "name": "python3"
  },
  "language_info": {
   "codemirror_mode": {
    "name": "ipython",
    "version": 3
   },
   "file_extension": ".py",
   "mimetype": "text/x-python",
   "name": "python",
   "nbconvert_exporter": "python",
   "pygments_lexer": "ipython3",
   "version": "3.9.7"
  }
 },
 "nbformat": 4,
 "nbformat_minor": 5
}
