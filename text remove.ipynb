{
 "cells": [
  {
   "cell_type": "code",
   "execution_count": 1,
   "id": "9b7eb7c0",
   "metadata": {},
   "outputs": [],
   "source": [
    "from PIL import Image\n",
    "from PIL import ImageDraw\n",
    " \n",
    "# Open an Image\n",
    "img = Image.open('car2.png')\n",
    " \n",
    "# Call draw Method to add 2D graphics in an image\n",
    "I1 = ImageDraw.Draw(img)\n",
    " \n",
    "# Add Text to an image\n",
    "I1.text((30, 20), \"nice \", fill=(300, 200, 100))\n",
    " \n",
    "# Display edited image\n",
    "img.show()\n",
    " \n",
    "# Save the edited image\n",
    "img.save(\"car2.png\")"
   ]
  },
  {
   "cell_type": "code",
   "execution_count": 7,
   "id": "8a55ff06",
   "metadata": {},
   "outputs": [],
   "source": [
    "import cv2\n",
    "import numpy as np\n",
    "import matplotlib.pyplot as plt\n",
    "\n",
    "%matplotlib inline"
   ]
  },
  {
   "cell_type": "code",
   "execution_count": 8,
   "id": "87b79526",
   "metadata": {},
   "outputs": [],
   "source": [
    "def generate_empty_image():\n",
    "\n",
    "    return np.ones(shape=(512,512,3), dtype=np.int16)"
   ]
  },
  {
   "cell_type": "code",
   "execution_count": 9,
   "id": "9ecc1d78",
   "metadata": {},
   "outputs": [
    {
     "data": {
      "text/plain": [
       "<matplotlib.image.AxesImage at 0x1db5793fa90>"
      ]
     },
     "execution_count": 9,
     "metadata": {},
     "output_type": "execute_result"
    },
    {
     "data": {
      "image/png": "[encoded data removed]",
      "text/plain": [
       "<Figure size 432x288 with 1 Axes>"
      ]
     },
     "metadata": {
      "needs_background": "light"
     },
     "output_type": "display_data"
    }
   ],
   "source": [
    "sample_img = generate_empty_image()\n",
    "plt.imshow(sample_img)"
   ]
  },
  {
   "cell_type": "code",
   "execution_count": 10,
   "id": "01ee0c5f",
   "metadata": {},
   "outputs": [
    {
     "data": {
      "text/plain": [
       "<matplotlib.image.AxesImage at 0x1db56e703d0>"
      ]
     },
     "execution_count": 10,
     "metadata": {},
     "output_type": "execute_result"
    },
    {
     "data": {
      "image/png": "[encoded data removed]",
      "text/plain": [
       "<Figure size 432x288 with 1 Axes>"
      ]
     },
     "metadata": {
      "needs_background": "light"
     },
     "output_type": "display_data"
    }
   ],
   "source": [
    "img = generate_empty_image()\n",
    "cv2.putText(img=img, text='Hi', org=(150, 250), fontFace=cv2.FONT_HERSHEY_TRIPLEX, fontScale=3, color=(0, 255, 0),thickness=3)\n",
    "\n",
    "plt.imshow(img)"
   ]
  },
  {
   "cell_type": "code",
   "execution_count": 11,
   "id": "1e3ba71c",
   "metadata": {},
   "outputs": [
    {
     "ename": "IndentationError",
     "evalue": "expected an indented block (Temp/ipykernel_8236/1838412825.py, line 10)",
     "output_type": "error",
     "traceback": [
      "\u001b[1;36m  File \u001b[1;32m\"C:\\Users\\User\\AppData\\Local\\Temp/ipykernel_8236/1838412825.py\"\u001b[1;36m, line \u001b[1;32m10\u001b[0m\n\u001b[1;33m    y = y_start + i*y_increment\u001b[0m\n\u001b[1;37m    ^\u001b[0m\n\u001b[1;31mIndentationError\u001b[0m\u001b[1;31m:\u001b[0m expected an indented block\n"
     ]
    }
   ],
   "source": [
    "img1 = generate_empty_image()\n",
    "\n",
    "text = \"How\\nAre\\nYou\"\n",
    "\n",
    "y_start = 150\n",
    "\n",
    "y_increment = 100\n",
    "\n",
    "for i, line in enumerate(text.split('\\n')):\n",
    "y = y_start + i*y_increment\n",
    "cv2.putText(img=img1, text=line, org=(150, y), fontFace=cv2.FONT_HERSHEY_SCRIPT_COMPLEX, fontScale=4, color=(255,255,0), \n",
    "thickness=3)\n",
    "\n",
    "plt.imshow(img1)"
   ]
  },
  {
   "cell_type": "code",
   "execution_count": 12,
   "id": "09aa812b",
   "metadata": {},
   "outputs": [],
   "source": [
    "import cv2"
   ]
  },
  {
   "cell_type": "code",
   "execution_count": 13,
   "id": "03533f57",
   "metadata": {},
   "outputs": [],
   "source": [
    "path = r'taj.png'"
   ]
  },
  {
   "cell_type": "code",
   "execution_count": 14,
   "id": "d03e8dbb",
   "metadata": {},
   "outputs": [],
   "source": [
    "image = cv2.imread(path)"
   ]
  },
  {
   "cell_type": "code",
   "execution_count": 15,
   "id": "2b560188",
   "metadata": {},
   "outputs": [],
   "source": [
    "window_name = 'Image'"
   ]
  },
  {
   "cell_type": "code",
   "execution_count": 16,
   "id": "553956e9",
   "metadata": {},
   "outputs": [],
   "source": [
    "font = cv2.FONT_HERSHEY_SIMPLEX"
   ]
  },
  {
   "cell_type": "code",
   "execution_count": 17,
   "id": "6f9d265f",
   "metadata": {},
   "outputs": [],
   "source": [
    "org = (50, 50)"
   ]
  },
  {
   "cell_type": "code",
   "execution_count": 18,
   "id": "13abb544",
   "metadata": {},
   "outputs": [],
   "source": [
    "fontScale = 1"
   ]
  },
  {
   "cell_type": "code",
   "execution_count": 19,
   "id": "de097044",
   "metadata": {},
   "outputs": [],
   "source": [
    "color = (255, 0, 0)"
   ]
  },
  {
   "cell_type": "code",
   "execution_count": 20,
   "id": "861ac782",
   "metadata": {},
   "outputs": [],
   "source": [
    "thickness = 2"
   ]
  },
  {
   "cell_type": "code",
   "execution_count": 21,
   "id": "359078b5",
   "metadata": {},
   "outputs": [],
   "source": [
    "image = cv2.putText(image, 'OpenCV', org, font, \n",
    "                   fontScale, color, thickness, cv2.LINE_AA)"
   ]
  },
  {
   "cell_type": "code",
   "execution_count": 22,
   "id": "c5316f27",
   "metadata": {},
   "outputs": [],
   "source": [
    "cv2.imshow(window_name, image) "
   ]
  }
 ],
 "metadata": {
  "kernelspec": {
   "display_name": "Python 3 (ipykernel)",
   "language": "python",
   "name": "python3"
  },
  "language_info": {
   "codemirror_mode": {
    "name": "ipython",
    "version": 3
   },
   "file_extension": ".py",
   "mimetype": "text/x-python",
   "name": "python",
   "nbconvert_exporter": "python",
   "pygments_lexer": "ipython3",
   "version": "3.9.7"
  }
 },
 "nbformat": 4,
 "nbformat_minor": 5
}
