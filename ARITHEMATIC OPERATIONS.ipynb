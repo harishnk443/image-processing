{
 "cells": [
  {
   "cell_type": "code",
   "execution_count": 1,
   "id": "49366320",
   "metadata": {},
   "outputs": [],
   "source": [
    "import  cv2"
   ]
  },
  {
   "cell_type": "code",
   "execution_count": 2,
   "id": "8ddb9a53",
   "metadata": {},
   "outputs": [],
   "source": [
    "import matplotlib.pyplot as plt \n",
    "%matplotlib inline"
   ]
  },
  {
   "cell_type": "code",
   "execution_count": 3,
   "id": "d1cc3bae",
   "metadata": {},
   "outputs": [],
   "source": [
    "first_img = cv2.imread(\"D://hari images//car.webp\")"
   ]
  },
  {
   "cell_type": "code",
   "execution_count": 4,
   "id": "4bdaa08a",
   "metadata": {},
   "outputs": [],
   "source": [
    "second_img = cv2.imread(\"D://hari images//merry.jpg\")"
   ]
  },
  {
   "cell_type": "code",
   "execution_count": 5,
   "id": "d30a18ec",
   "metadata": {},
   "outputs": [
    {
     "name": "stdout",
     "output_type": "stream",
     "text": [
      "(340, 680, 3)\n"
     ]
    }
   ],
   "source": [
    "print(first_img.shape)"
   ]
  },
  {
   "cell_type": "code",
   "execution_count": 6,
   "id": "ebbede33",
   "metadata": {},
   "outputs": [
    {
     "name": "stdout",
     "output_type": "stream",
     "text": [
      "(1200, 1920, 3)\n"
     ]
    }
   ],
   "source": [
    "print(second_img.shape)"
   ]
  },
  {
   "cell_type": "code",
   "execution_count": 7,
   "id": "7cf92c7b",
   "metadata": {},
   "outputs": [
    {
     "name": "stdout",
     "output_type": "stream",
     "text": [
      "shape after resizing (340, 680, 3)\n"
     ]
    }
   ],
   "source": [
    "dim =(680, 340)\n",
    "resized_second_img = cv2.resize(second_img, dim, interpolation = cv2.INTER_AREA)\n",
    "print(\"shape after resizing\", resized_second_img.shape)"
   ]
  },
  {
   "cell_type": "code",
   "execution_count": 8,
   "id": "d8305050",
   "metadata": {},
   "outputs": [],
   "source": [
    "added_img = cv2.add(first_img, resized_second_img)"
   ]
  },
  {
   "cell_type": "code",
   "execution_count": 9,
   "id": "83cf20dd",
   "metadata": {},
   "outputs": [
    {
     "data": {
      "text/plain": [
       "-1"
      ]
     },
     "execution_count": 9,
     "metadata": {},
     "output_type": "execute_result"
    }
   ],
   "source": [
    "cv2.imshow(\"first_img\", first_img)\n",
    "cv2.waitKey(0)\n",
    "cv2.imshow(\"second_img\", resized_second_img)\n",
    "cv2.waitKey(0)\n",
    "cv2.imshow(\"Added image\", added_img)\n",
    "cv2.waitKey(0)"
   ]
  },
  {
   "cell_type": "code",
   "execution_count": 10,
   "id": "eb6bb5e0",
   "metadata": {},
   "outputs": [],
   "source": [
    "cv2.destroyAllWindows()"
   ]
  },
  {
   "cell_type": "code",
   "execution_count": 11,
   "id": "fa1201ae",
   "metadata": {},
   "outputs": [],
   "source": [
    "subtracted = cv2.subtract(first_img, resized_second_img)"
   ]
  },
  {
   "cell_type": "code",
   "execution_count": 12,
   "id": "9fe4866e",
   "metadata": {},
   "outputs": [
    {
     "data": {
      "text/plain": [
       "-1"
      ]
     },
     "execution_count": 12,
     "metadata": {},
     "output_type": "execute_result"
    }
   ],
   "source": [
    "cv2.imshow(\"first_img\", first_img)\n",
    "cv2.waitKey(0)\n",
    "cv2.imshow(\"second_img\", resized_second_img)\n",
    "cv2.waitKey(0)\n",
    "cv2.imshow(\"subtracted image\", added_img)\n",
    "cv2.waitKey(0)"
   ]
  },
  {
   "cell_type": "code",
   "execution_count": 13,
   "id": "0dc78d64",
   "metadata": {},
   "outputs": [],
   "source": [
    "cv2.destroyAllWindows()"
   ]
  }
 ],
 "metadata": {
  "kernelspec": {
   "display_name": "Python 3 (ipykernel)",
   "language": "python",
   "name": "python3"
  },
  "language_info": {
   "codemirror_mode": {
    "name": "ipython",
    "version": 3
   },
   "file_extension": ".py",
   "mimetype": "text/x-python",
   "name": "python",
   "nbconvert_exporter": "python",
   "pygments_lexer": "ipython3",
   "version": "3.9.7"
  }
 },
 "nbformat": 4,
 "nbformat_minor": 5
}
