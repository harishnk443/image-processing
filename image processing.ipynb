{
 "cells": [
  {
   "cell_type": "code",
   "execution_count": null,
   "id": "8300510b",
   "metadata": {},
   "outputs": [],
   "source": [
    "import cv2\n",
    "from PIL import Image\n",
    "image=cv2.imread('car.webp',0)\n",
    "cv2.imshow(\"TO DISPLAY IMAGE\",image)\n",
    "cv2.waitKey(0)\n",
    "cv2.destroyAllWindows()"
   ]
  },
  {
   "cell_type": "code",
   "execution_count": null,
   "id": "74f8d155",
   "metadata": {},
   "outputs": [],
   "source": [
    "cv2.imwrite('D:\\image processing\\car.webp',image)"
   ]
  },
  {
   "cell_type": "code",
   "execution_count": null,
   "id": "db88eda6",
   "metadata": {},
   "outputs": [],
   "source": [
    "cv2.waitKey(0)"
   ]
  },
  {
   "cell_type": "code",
   "execution_count": null,
   "id": "8466ce0c",
   "metadata": {},
   "outputs": [],
   "source": [
    "cv2.destroyAllWindows()"
   ]
  },
  {
   "cell_type": "code",
   "execution_count": null,
   "id": "c3ef2624",
   "metadata": {},
   "outputs": [],
   "source": [
    "import matplotlib.pyplot as plt\n",
    "image=plt.imread('car.webp')\n",
    "plt.imshow(image)\n",
    "plt.show()"
   ]
  },
  {
   "cell_type": "code",
   "execution_count": null,
   "id": "8dd25dfc",
   "metadata": {},
   "outputs": [],
   "source": [
    "image.size"
   ]
  },
  {
   "cell_type": "code",
   "execution_count": null,
   "id": "fc36c53a",
   "metadata": {},
   "outputs": [],
   "source": [
    "new_image=cv2.rotate(image,cv2.ROTATE_180)\n",
    "cv2.imshow('Display image',new_image)\n",
    "cv2.waitKey(0)\n",
    "cv2.destroyAllWindows()"
   ]
  },
  {
   "cell_type": "code",
   "execution_count": null,
   "id": "f343c85a",
   "metadata": {},
   "outputs": [],
   "source": [
    "print(image.shape)"
   ]
  },
  {
   "cell_type": "code",
   "execution_count": null,
   "id": "d35dfe1b",
   "metadata": {},
   "outputs": [],
   "source": [
    "width, height = image.size\n",
    "left = 4\n",
    "top = height / 5\n",
    "right = 154\n",
    "bottom = 3 * height / 5"
   ]
  },
  {
   "cell_type": "code",
   "execution_count": null,
   "id": "a0cef170",
   "metadata": {},
   "outputs": [],
   "source": [
    "im = image.crop((left, top, right, bottom))\n",
    "newsize = (300, 300)\n",
    "im = im1.resize(newsize)\n",
    "im.show()"
   ]
  },
  {
   "cell_type": "code",
   "execution_count": null,
   "id": "527964f0",
   "metadata": {},
   "outputs": [],
   "source": [
    "im.size"
   ]
  }
 ],
 "metadata": {
  "kernelspec": {
   "display_name": "Python 3 (ipykernel)",
   "language": "python",
   "name": "python3"
  },
  "language_info": {
   "codemirror_mode": {
    "name": "ipython",
    "version": 3
   },
   "file_extension": ".py",
   "mimetype": "text/x-python",
   "name": "python",
   "nbconvert_exporter": "python",
   "pygments_lexer": "ipython3",
   "version": "3.9.7"
  }
 },
 "nbformat": 4,
 "nbformat_minor": 5
}
