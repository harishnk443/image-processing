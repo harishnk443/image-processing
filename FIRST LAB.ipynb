{
 "cells": [
  {
   "cell_type": "code",
   "execution_count": null,
   "id": "d4073c4b",
   "metadata": {},
   "outputs": [],
   "source": [
    "import cv2\n",
    "import numpy as np\n",
    "from PIL import Image\n",
    "img=cv2.imread('car.webp')\n",
    "cv2.imshow('image',img)\n",
    "cv2.waitKey(0)\n",
    "cv2.destroyAllWindows()"
   ]
  },
  {
   "cell_type": "code",
   "execution_count": null,
   "id": "ac49eefb",
   "metadata": {},
   "outputs": [],
   "source": [
    "img2=Image.open('car.webp')\n",
    "width=img2.width\n",
    "height=img2.height\n",
    "print(\"height:\",height)\n",
    "print(\"width:\",width)\n"
   ]
  },
  {
   "cell_type": "code",
   "execution_count": null,
   "id": "567c3640",
   "metadata": {},
   "outputs": [],
   "source": [
    "images=cv2.imread(\"car.webp\",0)\n",
    "print(\"no of channels is:\"+str(img.ndim))\n",
    "print(\"no of channels is:\",img.shape)\n",
    "cv2.imshow('images',images)\n",
    "cv2.waitKey(0)\n",
    "cv2.destroyAllWindows()"
   ]
  },
  {
   "cell_type": "code",
   "execution_count": null,
   "id": "d20c2a4d",
   "metadata": {},
   "outputs": [],
   "source": [
    "import matplotlib.image as image\n",
    "img1=image.imread('car.webp')\n",
    "print(\"array\")\n",
    "print(img1)\n"
   ]
  },
  {
   "cell_type": "code",
   "execution_count": null,
   "id": "6c4d7fd1",
   "metadata": {},
   "outputs": [],
   "source": [
    "from PIL import Image\n",
    "filepath = \"car.webp\"\n",
    "im = Image.open(filepath)\n",
    "new_im = im.resize((400,400))\n",
    "new_im"
   ]
  },
  {
   "cell_type": "code",
   "execution_count": null,
   "id": "569265c0",
   "metadata": {},
   "outputs": [],
   "source": [
    "import cv2\n",
    "img=cv2.imread(\"car.webp\")\n",
    "ret, bw_img=cv2.threshold(img , 127,225, cv2.THRESH_BINARY)\n",
    "bw = cv2.threshold(img ,225, 127, cv2.THRESH_BINARY)\n",
    "cv2.imshow(\"BINARY\",bw_img)\n",
    "cv2.waitKey(0)\n",
    "cv2.destroyAllWindows()"
   ]
  },
  {
   "cell_type": "code",
   "execution_count": null,
   "id": "1ec6fff9",
   "metadata": {},
   "outputs": [],
   "source": [
    "num1 = 15"
   ]
  },
  {
   "cell_type": "code",
   "execution_count": null,
   "id": "7596adcf",
   "metadata": {},
   "outputs": [],
   "source": [
    "num2 = 12"
   ]
  },
  {
   "cell_type": "code",
   "execution_count": null,
   "id": "c700c60b",
   "metadata": {},
   "outputs": [],
   "source": [
    "sum = num1 + num2"
   ]
  },
  {
   "cell_type": "code",
   "execution_count": null,
   "id": "3d390bd3",
   "metadata": {},
   "outputs": [],
   "source": [
    "print(\"sum of {0} and {1} is {2}\" .format(num1, num2, sum))"
   ]
  }
 ],
 "metadata": {
  "kernelspec": {
   "display_name": "Python 3 (ipykernel)",
   "language": "python",
   "name": "python3"
  },
  "language_info": {
   "codemirror_mode": {
    "name": "ipython",
    "version": 3
   },
   "file_extension": ".py",
   "mimetype": "text/x-python",
   "name": "python",
   "nbconvert_exporter": "python",
   "pygments_lexer": "ipython3",
   "version": "3.9.7"
  }
 },
 "nbformat": 4,
 "nbformat_minor": 5
}
